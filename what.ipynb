{
 "cells": [
  {
   "cell_type": "code",
   "execution_count": 1,
   "metadata": {
    "colab": {},
    "colab_type": "code",
    "id": "GkCgGT1AnS_X"
   },
   "outputs": [],
   "source": [
    "import pandas as pd\n",
    "import numpy as np\n",
    "import nltk\n",
    "import matplotlib.pyplot as plt\n",
    "\n",
    "%matplotlib inline\n"
   ]
  },
  {
   "cell_type": "code",
   "execution_count": 5,
   "metadata": {
    "colab": {
     "base_uri": "https://localhost:8080/",
     "height": 71
    },
    "colab_type": "code",
    "id": "B_Dv5XMUncGW",
    "outputId": "c1116cee-ba1d-4603-fd03-0a32778fd5b6"
   },
   "outputs": [
    {
     "name": "stderr",
     "output_type": "stream",
     "text": [
      "/usr/local/lib/python3.6/dist-packages/ipykernel_launcher.py:1: ParserWarning: Falling back to the 'python' engine because the 'c' engine does not support regex separators (separators > 1 char and different from '\\s+' are interpreted as regex); you can avoid this warning by specifying engine='python'.\n",
      "  \"\"\"Entry point for launching an IPython kernel.\n"
     ]
    }
   ],
   "source": [
    "df = pd.read_csv(\"/label.txt\",sep=\",,,\",header=None ,names=['question','type'])"
   ]
  },
  {
   "cell_type": "code",
   "execution_count": 6,
   "metadata": {
    "colab": {
     "base_uri": "https://localhost:8080/",
     "height": 204
    },
    "colab_type": "code",
    "id": "wM1ErpH4nxKd",
    "outputId": "3f3e03b2-e849-4fe1-e395-03dad64632fc"
   },
   "outputs": [
    {
     "data": {
      "text/html": [
       "<div>\n",
       "<style scoped>\n",
       "    .dataframe tbody tr th:only-of-type {\n",
       "        vertical-align: middle;\n",
       "    }\n",
       "\n",
       "    .dataframe tbody tr th {\n",
       "        vertical-align: top;\n",
       "    }\n",
       "\n",
       "    .dataframe thead th {\n",
       "        text-align: right;\n",
       "    }\n",
       "</style>\n",
       "<table border=\"1\" class=\"dataframe\">\n",
       "  <thead>\n",
       "    <tr style=\"text-align: right;\">\n",
       "      <th></th>\n",
       "      <th>question</th>\n",
       "      <th>type</th>\n",
       "    </tr>\n",
       "  </thead>\n",
       "  <tbody>\n",
       "    <tr>\n",
       "      <th>0</th>\n",
       "      <td>how did serfdom develop in and then leave russ...</td>\n",
       "      <td>unknown</td>\n",
       "    </tr>\n",
       "    <tr>\n",
       "      <th>1</th>\n",
       "      <td>what films featured the character popeye doyle ?</td>\n",
       "      <td>what</td>\n",
       "    </tr>\n",
       "    <tr>\n",
       "      <th>2</th>\n",
       "      <td>how can i find a list of celebrities ' real na...</td>\n",
       "      <td>unknown</td>\n",
       "    </tr>\n",
       "    <tr>\n",
       "      <th>3</th>\n",
       "      <td>what fowl grabs the spotlight after the chines...</td>\n",
       "      <td>what</td>\n",
       "    </tr>\n",
       "    <tr>\n",
       "      <th>4</th>\n",
       "      <td>what is the full form of .com ?</td>\n",
       "      <td>what</td>\n",
       "    </tr>\n",
       "  </tbody>\n",
       "</table>\n",
       "</div>"
      ],
      "text/plain": [
       "                                            question      type\n",
       "0  how did serfdom develop in and then leave russ...   unknown\n",
       "1  what films featured the character popeye doyle ?       what\n",
       "2  how can i find a list of celebrities ' real na...   unknown\n",
       "3  what fowl grabs the spotlight after the chines...      what\n",
       "4                   what is the full form of .com ?       what"
      ]
     },
     "execution_count": 6,
     "metadata": {
      "tags": []
     },
     "output_type": "execute_result"
    }
   ],
   "source": [
    "df.head()"
   ]
  },
  {
   "cell_type": "code",
   "execution_count": 7,
   "metadata": {
    "colab": {
     "base_uri": "https://localhost:8080/",
     "height": 34
    },
    "colab_type": "code",
    "id": "4Z06KSzKog2I",
    "outputId": "721c422e-9da6-4799-d958-7b6ae4184ddd"
   },
   "outputs": [
    {
     "data": {
      "text/plain": [
       "(1483, 2)"
      ]
     },
     "execution_count": 7,
     "metadata": {
      "tags": []
     },
     "output_type": "execute_result"
    }
   ],
   "source": [
    "df.shape"
   ]
  },
  {
   "cell_type": "code",
   "execution_count": 8,
   "metadata": {
    "colab": {},
    "colab_type": "code",
    "id": "oVHIWDSgojdK"
   },
   "outputs": [],
   "source": [
    "df['type']=df['type'].str.strip()"
   ]
  },
  {
   "cell_type": "code",
   "execution_count": 9,
   "metadata": {
    "colab": {
     "base_uri": "https://localhost:8080/",
     "height": 34
    },
    "colab_type": "code",
    "id": "F50wcOCLolxH",
    "outputId": "334d63dc-bb7a-49be-c79d-9ff0737ea968"
   },
   "outputs": [
    {
     "data": {
      "text/plain": [
       "array(['unknown', 'what', 'when', 'who', 'affirmation'], dtype=object)"
      ]
     },
     "execution_count": 9,
     "metadata": {
      "tags": []
     },
     "output_type": "execute_result"
    }
   ],
   "source": [
    "df['type'].unique()"
   ]
  },
  {
   "cell_type": "code",
   "execution_count": 10,
   "metadata": {
    "colab": {
     "base_uri": "https://localhost:8080/",
     "height": 119
    },
    "colab_type": "code",
    "id": "vpaJ5ELRon6g",
    "outputId": "d8ad2056-f0dc-4d0d-db76-196277a0ed0c"
   },
   "outputs": [
    {
     "data": {
      "text/plain": [
       "array(['how did serfdom develop in and then leave russia ? ',\n",
       "       'what films featured the character popeye doyle ? ',\n",
       "       \"how can i find a list of celebrities ' real names ? \", ...,\n",
       "       'does this hose have one ? ', 'can i get it in india ? ',\n",
       "       'would this work on a 2008 ford edge with a naked roof ? '],\n",
       "      dtype=object)"
      ]
     },
     "execution_count": 10,
     "metadata": {
      "tags": []
     },
     "output_type": "execute_result"
    }
   ],
   "source": [
    "df['question'].values"
   ]
  },
  {
   "cell_type": "code",
   "execution_count": 12,
   "metadata": {
    "colab": {},
    "colab_type": "code",
    "id": "2W7GI5gyop7X"
   },
   "outputs": [],
   "source": [
    "import re\n",
    "df['question'] = df['question'].apply(lambda x: x.lower())\n",
    "df['question'] = df['question'].apply((lambda x: re.sub('[^a-zA-z0-9\\s]','',x)))"
   ]
  },
  {
   "cell_type": "code",
   "execution_count": 13,
   "metadata": {
    "colab": {},
    "colab_type": "code",
    "id": "hxq0ug1NoskH"
   },
   "outputs": [],
   "source": [
    "VALIDATION_SPLIT=0.20"
   ]
  },
  {
   "cell_type": "code",
   "execution_count": 14,
   "metadata": {
    "colab": {},
    "colab_type": "code",
    "id": "-0VcL-aoo0cf"
   },
   "outputs": [],
   "source": [
    "from keras.models import Sequential\n",
    "from keras.layers import Dense, Embedding, LSTM\n",
    "from sklearn.model_selection import train_test_split\n",
    "from keras.utils.np_utils import to_categorical"
   ]
  },
  {
   "cell_type": "code",
   "execution_count": 15,
   "metadata": {
    "colab": {},
    "colab_type": "code",
    "id": "yMjS4XS_o6MY"
   },
   "outputs": [],
   "source": [
    "MAX_NB_WORDS = 20000\n",
    "MAX_SEQUENCE_LENGTH=30"
   ]
  },
  {
   "cell_type": "code",
   "execution_count": 16,
   "metadata": {
    "colab": {},
    "colab_type": "code",
    "id": "PnrNqPEfo-C1"
   },
   "outputs": [],
   "source": [
    "from keras.preprocessing.text import Tokenizer\n",
    "from keras.preprocessing.sequence import pad_sequences\n",
    "import re"
   ]
  },
  {
   "cell_type": "code",
   "execution_count": 17,
   "metadata": {
    "colab": {},
    "colab_type": "code",
    "id": "TTeo3_-CpAdB"
   },
   "outputs": [],
   "source": [
    "data=df.copy()"
   ]
  },
  {
   "cell_type": "code",
   "execution_count": 18,
   "metadata": {
    "colab": {
     "base_uri": "https://localhost:8080/",
     "height": 119
    },
    "colab_type": "code",
    "id": "0l0nEhBbpCt6",
    "outputId": "453d26ef-cd44-4ae7-f96a-cd7fffd75a5b"
   },
   "outputs": [
    {
     "name": "stdout",
     "output_type": "stream",
     "text": [
      "what           609\n",
      "who            402\n",
      "unknown        272\n",
      "affirmation    104\n",
      "when            96\n",
      "Name: type, dtype: int64\n"
     ]
    }
   ],
   "source": [
    "print(data['type'].value_counts())\n",
    "\n",
    "tokenizer = Tokenizer(num_words=MAX_NB_WORDS, split=' ')\n",
    "tokenizer.fit_on_texts(data['question'].values)\n",
    "X = tokenizer.texts_to_sequences(data['question'].values)\n",
    "X = pad_sequences(X, maxlen=MAX_SEQUENCE_LENGTH)"
   ]
  },
  {
   "cell_type": "code",
   "execution_count": 59,
   "metadata": {
    "colab": {
     "base_uri": "https://localhost:8080/",
     "height": 68
    },
    "colab_type": "code",
    "id": "u2_PEO8hpUjJ",
    "outputId": "220986ad-3de8-432b-bc57-cdfcea6fe835"
   },
   "outputs": [
    {
     "name": "stdout",
     "output_type": "stream",
     "text": [
      "Found 3685 unique tokens.\n",
      "Shape of data tensor: (1483, 30)\n",
      "Shape of label tensor: (1483, 5)\n"
     ]
    }
   ],
   "source": [
    "word_index = tokenizer.word_index\n",
    "print('Found %s unique tokens.' % len(word_index))\n",
    "\n",
    "Y = data['type']\n",
    "from sklearn import preprocessing\n",
    "le = preprocessing.LabelEncoder()\n",
    "le.fit(Y)\n",
    "Y=le.transform(Y) \n",
    "labels = to_categorical(np.asarray(Y))\n",
    "print('Shape of data tensor:', X.shape)\n",
    "print('Shape of label tensor:', labels.shape)\n",
    "\n",
    "\n",
    "# split the data into a training set and a validation set\n",
    "indices = np.arange(X.shape[0])\n",
    "np.random.shuffle(indices)\n",
    "X = X[indices]\n",
    "labels = labels[indices]\n",
    "nb_validation_samples = int(VALIDATION_SPLIT * X.shape[0])\n",
    "\n",
    "x_train = X[:-nb_validation_samples]\n",
    "y_train = labels[:-nb_validation_samples]\n",
    "x_val = X[-nb_validation_samples:]\n",
    "y_val = labels[-nb_validation_samples:]"
   ]
  },
  {
   "cell_type": "code",
   "execution_count": 39,
   "metadata": {
    "colab": {
     "base_uri": "https://localhost:8080/",
     "height": 357
    },
    "colab_type": "code",
    "id": "pt9tZUFgpbPR",
    "outputId": "d4c90490-7cb3-4b0e-ae0c-d85818a05be4"
   },
   "outputs": [
    {
     "name": "stdout",
     "output_type": "stream",
     "text": [
      "--2020-08-22 10:58:23--  http://nlp.stanford.edu/data/glove.6B.zip\n",
      "Resolving nlp.stanford.edu (nlp.stanford.edu)... 171.64.67.140\n",
      "Connecting to nlp.stanford.edu (nlp.stanford.edu)|171.64.67.140|:80... connected.\n",
      "HTTP request sent, awaiting response... 302 Found\n",
      "Location: https://nlp.stanford.edu/data/glove.6B.zip [following]\n",
      "--2020-08-22 10:58:23--  https://nlp.stanford.edu/data/glove.6B.zip\n",
      "Connecting to nlp.stanford.edu (nlp.stanford.edu)|171.64.67.140|:443... connected.\n",
      "HTTP request sent, awaiting response... 301 Moved Permanently\n",
      "Location: http://downloads.cs.stanford.edu/nlp/data/glove.6B.zip [following]\n",
      "--2020-08-22 10:58:23--  http://downloads.cs.stanford.edu/nlp/data/glove.6B.zip\n",
      "Resolving downloads.cs.stanford.edu (downloads.cs.stanford.edu)... 171.64.64.22\n",
      "Connecting to downloads.cs.stanford.edu (downloads.cs.stanford.edu)|171.64.64.22|:80... connected.\n",
      "HTTP request sent, awaiting response... 200 OK\n",
      "Length: 862182613 (822M) [application/zip]\n",
      "Saving to: ‘glove.6B.zip’\n",
      "\n",
      "glove.6B.zip        100%[===================>] 822.24M  1.94MB/s    in 6m 28s  \n",
      "\n",
      "2020-08-22 11:04:51 (2.12 MB/s) - ‘glove.6B.zip’ saved [862182613/862182613]\n",
      "\n"
     ]
    }
   ],
   "source": [
    "!wget http://nlp.stanford.edu/data/glove.6B.zip "
   ]
  },
  {
   "cell_type": "code",
   "execution_count": 40,
   "metadata": {
    "colab": {
     "base_uri": "https://localhost:8080/",
     "height": 102
    },
    "colab_type": "code",
    "id": "97iwY8jIpf0T",
    "outputId": "ad15dce1-277a-4f5d-bdca-f13da5af800a"
   },
   "outputs": [
    {
     "name": "stdout",
     "output_type": "stream",
     "text": [
      "Archive:  glove.6B.zip\n",
      "  inflating: glove.6B.50d.txt        \n",
      "  inflating: glove.6B.100d.txt       \n",
      "  inflating: glove.6B.200d.txt       \n",
      "  inflating: glove.6B.300d.txt       \n"
     ]
    }
   ],
   "source": [
    "!unzip glove*.zip"
   ]
  },
  {
   "cell_type": "code",
   "execution_count": 41,
   "metadata": {
    "colab": {
     "base_uri": "https://localhost:8080/",
     "height": 51
    },
    "colab_type": "code",
    "id": "Zf6dDqtZpiHq",
    "outputId": "6aec4b4d-253a-4420-fb2e-9b88234a28d9"
   },
   "outputs": [
    {
     "name": "stdout",
     "output_type": "stream",
     "text": [
      "glove.6B.100d.txt  glove.6B.300d.txt  glove.6B.zip\n",
      "glove.6B.200d.txt  glove.6B.50d.txt   \u001b[0m\u001b[01;34msample_data\u001b[0m/\n"
     ]
    }
   ],
   "source": [
    "%ls"
   ]
  },
  {
   "cell_type": "code",
   "execution_count": 42,
   "metadata": {
    "colab": {
     "base_uri": "https://localhost:8080/",
     "height": 34
    },
    "colab_type": "code",
    "id": "Q7Hs6dZv1hex",
    "outputId": "299a8d8a-74fb-4a12-b68c-f869b8a536fd"
   },
   "outputs": [
    {
     "name": "stdout",
     "output_type": "stream",
     "text": [
      "Found 400000 word vectors.\n"
     ]
    }
   ],
   "source": [
    "embeddings_index = {}\n",
    "f = open('glove.6B.300d.txt', encoding=\"utf8\")\n",
    "for line in f:\n",
    "    values = line.split()\n",
    "    word = values[0]\n",
    "    coefs = np.asarray(values[1:], dtype='float32')\n",
    "    embeddings_index[word] = coefs\n",
    "f.close()\n",
    "\n",
    "print('Found %s word vectors.' % len(embeddings_index))"
   ]
  },
  {
   "cell_type": "code",
   "execution_count": 43,
   "metadata": {
    "colab": {},
    "colab_type": "code",
    "id": "Ri-2CW5D2Lm1"
   },
   "outputs": [],
   "source": [
    "EMBEDDING_DIM=300"
   ]
  },
  {
   "cell_type": "code",
   "execution_count": 44,
   "metadata": {
    "colab": {},
    "colab_type": "code",
    "id": "rSDvCJ0g3Cjp"
   },
   "outputs": [],
   "source": [
    "embedding_matrix = np.zeros((len(word_index) + 1, EMBEDDING_DIM))\n",
    "for word, i in word_index.items():\n",
    "    embedding_vector = embeddings_index.get(word)\n",
    "    if embedding_vector is not None:\n",
    "        # words not found in embedding index will be all-zeros.\n",
    "        embedding_matrix[i] = embedding_vector"
   ]
  },
  {
   "cell_type": "code",
   "execution_count": 45,
   "metadata": {
    "colab": {},
    "colab_type": "code",
    "id": "0Rs8FVs93Gwx"
   },
   "outputs": [],
   "source": [
    "from keras.layers import Embedding\n",
    "\n",
    "embedding_layer = Embedding(len(word_index) + 1,\n",
    "                            EMBEDDING_DIM,\n",
    "                            weights=[embedding_matrix],\n",
    "                            input_length=MAX_SEQUENCE_LENGTH,\n",
    "                            trainable=False)"
   ]
  },
  {
   "cell_type": "code",
   "execution_count": 48,
   "metadata": {
    "colab": {
     "base_uri": "https://localhost:8080/",
     "height": 272
    },
    "colab_type": "code",
    "id": "iOJaHbhU3LUi",
    "outputId": "bdfc5247-545f-4312-9852-2a75e9402c90"
   },
   "outputs": [
    {
     "name": "stdout",
     "output_type": "stream",
     "text": [
      "Model: \"sequential_2\"\n",
      "_________________________________________________________________\n",
      "Layer (type)                 Output Shape              Param #   \n",
      "=================================================================\n",
      "embedding (Embedding)        (None, 30, 300)           1105800   \n",
      "_________________________________________________________________\n",
      "lstm (LSTM)                  (None, 196)               389648    \n",
      "_________________________________________________________________\n",
      "dense (Dense)                (None, 5)                 985       \n",
      "=================================================================\n",
      "Total params: 1,496,433\n",
      "Trainable params: 390,633\n",
      "Non-trainable params: 1,105,800\n",
      "_________________________________________________________________\n",
      "None\n"
     ]
    }
   ],
   "source": [
    "embed_dim = 300\n",
    "lstm_out = 196\n",
    "model = Sequential()\n",
    "model.add(embedding_layer)\n",
    "model.add(LSTM(lstm_out, dropout=0.25, recurrent_dropout=0.25))\n",
    "model.add(Dense(5,activation='softmax'))\n",
    "model.compile(loss = 'categorical_crossentropy', optimizer='adam',metrics = ['accuracy'])\n",
    "print(model.summary())"
   ]
  },
  {
   "cell_type": "code",
   "execution_count": 49,
   "metadata": {
    "colab": {
     "base_uri": "https://localhost:8080/",
     "height": 714
    },
    "colab_type": "code",
    "id": "kGTgs1SR3O8V",
    "outputId": "c8b1d902-f94a-43f9-8223-543d75db4094"
   },
   "outputs": [
    {
     "name": "stdout",
     "output_type": "stream",
     "text": [
      "Epoch 1/20\n",
      "10/10 [==============================] - 4s 420ms/step - loss: 1.3567 - accuracy: 0.4431 - val_loss: 1.1997 - val_accuracy: 0.5709\n",
      "Epoch 2/20\n",
      "10/10 [==============================] - 4s 382ms/step - loss: 1.0081 - accuracy: 0.6495 - val_loss: 0.7930 - val_accuracy: 0.7027\n",
      "Epoch 3/20\n",
      "10/10 [==============================] - 4s 381ms/step - loss: 0.6590 - accuracy: 0.7641 - val_loss: 0.5596 - val_accuracy: 0.8243\n",
      "Epoch 4/20\n",
      "10/10 [==============================] - 4s 386ms/step - loss: 0.4556 - accuracy: 0.8627 - val_loss: 0.3573 - val_accuracy: 0.8986\n",
      "Epoch 5/20\n",
      "10/10 [==============================] - 4s 372ms/step - loss: 0.3011 - accuracy: 0.9174 - val_loss: 0.2643 - val_accuracy: 0.9324\n",
      "Epoch 6/20\n",
      "10/10 [==============================] - 4s 366ms/step - loss: 0.2138 - accuracy: 0.9427 - val_loss: 0.1843 - val_accuracy: 0.9493\n",
      "Epoch 7/20\n",
      "10/10 [==============================] - 4s 365ms/step - loss: 0.1543 - accuracy: 0.9537 - val_loss: 0.1554 - val_accuracy: 0.9628\n",
      "Epoch 8/20\n",
      "10/10 [==============================] - 4s 369ms/step - loss: 0.1193 - accuracy: 0.9688 - val_loss: 0.1330 - val_accuracy: 0.9696\n",
      "Epoch 9/20\n",
      "10/10 [==============================] - 4s 369ms/step - loss: 0.1193 - accuracy: 0.9655 - val_loss: 0.1546 - val_accuracy: 0.9561\n",
      "Epoch 10/20\n",
      "10/10 [==============================] - 4s 365ms/step - loss: 0.1085 - accuracy: 0.9688 - val_loss: 0.1233 - val_accuracy: 0.9696\n",
      "Epoch 11/20\n",
      "10/10 [==============================] - 4s 370ms/step - loss: 0.0873 - accuracy: 0.9806 - val_loss: 0.1064 - val_accuracy: 0.9797\n",
      "Epoch 12/20\n",
      "10/10 [==============================] - 4s 372ms/step - loss: 0.0631 - accuracy: 0.9832 - val_loss: 0.1210 - val_accuracy: 0.9764\n",
      "Epoch 13/20\n",
      "10/10 [==============================] - 4s 363ms/step - loss: 0.0581 - accuracy: 0.9832 - val_loss: 0.0949 - val_accuracy: 0.9831\n",
      "Epoch 14/20\n",
      "10/10 [==============================] - 4s 365ms/step - loss: 0.0516 - accuracy: 0.9848 - val_loss: 0.1030 - val_accuracy: 0.9831\n",
      "Epoch 15/20\n",
      "10/10 [==============================] - 4s 376ms/step - loss: 0.0441 - accuracy: 0.9874 - val_loss: 0.1157 - val_accuracy: 0.9797\n",
      "Epoch 16/20\n",
      "10/10 [==============================] - 4s 370ms/step - loss: 0.0405 - accuracy: 0.9890 - val_loss: 0.1056 - val_accuracy: 0.9764\n",
      "Epoch 17/20\n",
      "10/10 [==============================] - 4s 369ms/step - loss: 0.0336 - accuracy: 0.9907 - val_loss: 0.0954 - val_accuracy: 0.9831\n",
      "Epoch 18/20\n",
      "10/10 [==============================] - 4s 383ms/step - loss: 0.0300 - accuracy: 0.9882 - val_loss: 0.0962 - val_accuracy: 0.9899\n",
      "Epoch 19/20\n",
      "10/10 [==============================] - 4s 397ms/step - loss: 0.0272 - accuracy: 0.9941 - val_loss: 0.1039 - val_accuracy: 0.9899\n",
      "Epoch 20/20\n",
      "10/10 [==============================] - 4s 374ms/step - loss: 0.0221 - accuracy: 0.9924 - val_loss: 0.1125 - val_accuracy: 0.9831\n"
     ]
    },
    {
     "data": {
      "text/plain": [
       "<tensorflow.python.keras.callbacks.History at 0x7f5ddce816d8>"
      ]
     },
     "execution_count": 49,
     "metadata": {
      "tags": []
     },
     "output_type": "execute_result"
    }
   ],
   "source": [
    "model.fit(x_train, y_train,\n",
    "          batch_size=128,\n",
    "          epochs=20,\n",
    "          validation_data=(x_val, y_val))"
   ]
  },
  {
   "cell_type": "code",
   "execution_count": 79,
   "metadata": {
    "colab": {},
    "colab_type": "code",
    "id": "iGRhbyJ84Wmm"
   },
   "outputs": [],
   "source": [
    "\n",
    "example = tokenizer.texts_to_sequences([\"how did you come?\"])\n",
    "example = pad_sequences(example, maxlen=MAX_SEQUENCE_LENGTH)"
   ]
  },
  {
   "cell_type": "code",
   "execution_count": 80,
   "metadata": {
    "colab": {
     "base_uri": "https://localhost:8080/",
     "height": 34
    },
    "colab_type": "code",
    "id": "3Ckao12a5aR6",
    "outputId": "d23e6c2a-4e6a-4f95-cf37-ea1ea04cb689"
   },
   "outputs": [
    {
     "data": {
      "text/plain": [
       "array(['unknown'], dtype=object)"
      ]
     },
     "execution_count": 80,
     "metadata": {
      "tags": []
     },
     "output_type": "execute_result"
    }
   ],
   "source": [
    "le.inverse_transform([np.argmax(model.predict(example))])\n"
   ]
  },
  {
   "cell_type": "code",
   "execution_count": null,
   "metadata": {
    "colab": {},
    "colab_type": "code",
    "id": "ZIvQd9Ug5qzI"
   },
   "outputs": [],
   "source": []
  }
 ],
 "metadata": {
  "colab": {
   "name": "what.ipynb",
   "provenance": []
  },
  "kernelspec": {
   "display_name": "Python 3",
   "language": "python",
   "name": "python3"
  },
  "language_info": {
   "codemirror_mode": {
    "name": "ipython",
    "version": 3
   },
   "file_extension": ".py",
   "mimetype": "text/x-python",
   "name": "python",
   "nbconvert_exporter": "python",
   "pygments_lexer": "ipython3",
   "version": "3.7.6"
  }
 },
 "nbformat": 4,
 "nbformat_minor": 1
}
